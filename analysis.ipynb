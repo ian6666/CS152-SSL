{
 "cells": [
  {
   "cell_type": "code",
   "execution_count": 1,
   "metadata": {},
   "outputs": [],
   "source": [
    "import numpy as np\n",
    "import os"
   ]
  },
  {
   "cell_type": "code",
   "execution_count": 6,
   "metadata": {},
   "outputs": [
    {
     "name": "stdout",
     "output_type": "stream",
     "text": [
      "0.34957107843137253\n",
      "0.3688725490196078\n",
      "0.34957107843137253\n",
      "0.3170955882352941\n",
      "0.34957107843137253\n",
      "0.35692401960784315\n",
      "0.3633578431372549\n",
      "0.34957107843137253\n",
      "0.34957107843137253\n",
      "0.34957107843137253\n"
     ]
    }
   ],
   "source": [
    "#final accuracy \n",
    "for i in range(10):\n",
    "    trial = str(i)\n",
    "    data=np.load(os.path.join(\"model_checkpoints\", trial, \"mixmatch_model_loss.npy\"))\n",
    "    print(data[3][-1])"
   ]
  }
 ],
 "metadata": {
  "kernelspec": {
   "display_name": "base",
   "language": "python",
   "name": "python3"
  },
  "language_info": {
   "codemirror_mode": {
    "name": "ipython",
    "version": 3
   },
   "file_extension": ".py",
   "mimetype": "text/x-python",
   "name": "python",
   "nbconvert_exporter": "python",
   "pygments_lexer": "ipython3",
   "version": "3.11.5"
  },
  "orig_nbformat": 4
 },
 "nbformat": 4,
 "nbformat_minor": 2
}
