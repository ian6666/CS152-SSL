{
 "cells": [
  {
   "cell_type": "code",
   "execution_count": 1,
   "metadata": {},
   "outputs": [
    {
     "name": "stdout",
     "output_type": "stream",
     "text": [
      "Collecting roboflow\n",
      "  Downloading roboflow-1.1.9-py3-none-any.whl (63 kB)\n",
      "\u001b[K     |████████████████████████████████| 63 kB 3.3 MB/s eta 0:00:011\n",
      "\u001b[?25hRequirement already satisfied: pyparsing==2.4.7 in /Users/laurie/opt/anaconda3/lib/python3.8/site-packages (from roboflow) (2.4.7)\n",
      "Requirement already satisfied: Pillow>=7.1.2 in /Users/laurie/opt/anaconda3/lib/python3.8/site-packages (from roboflow) (8.2.0)\n",
      "Collecting python-dotenv\n",
      "  Downloading python_dotenv-1.0.0-py3-none-any.whl (19 kB)\n",
      "Collecting certifi==2023.7.22\n",
      "  Downloading certifi-2023.7.22-py3-none-any.whl (158 kB)\n",
      "\u001b[K     |████████████████████████████████| 158 kB 16.6 MB/s eta 0:00:01\n",
      "\u001b[?25hRequirement already satisfied: kiwisolver>=1.3.1 in /Users/laurie/opt/anaconda3/lib/python3.8/site-packages (from roboflow) (1.3.1)\n",
      "Requirement already satisfied: six in /Users/laurie/opt/anaconda3/lib/python3.8/site-packages (from roboflow) (1.15.0)\n",
      "Collecting requests-toolbelt\n",
      "  Downloading requests_toolbelt-1.0.0-py2.py3-none-any.whl (54 kB)\n",
      "\u001b[K     |████████████████████████████████| 54 kB 6.9 MB/s  eta 0:00:01\n",
      "\u001b[?25hCollecting opencv-python-headless==4.8.0.74\n",
      "  Downloading opencv_python_headless-4.8.0.74-cp37-abi3-macosx_10_16_x86_64.whl (54.6 MB)\n",
      "\u001b[K     |████████████████████████████████| 54.6 MB 72.5 MB/s eta 0:00:01    |██▉                             | 4.9 MB 44.9 MB/s eta 0:00:02\n",
      "\u001b[?25hRequirement already satisfied: python-dateutil in /Users/laurie/opt/anaconda3/lib/python3.8/site-packages (from roboflow) (2.8.1)\n",
      "Requirement already satisfied: PyYAML>=5.3.1 in /Users/laurie/opt/anaconda3/lib/python3.8/site-packages (from roboflow) (5.4.1)\n",
      "Requirement already satisfied: numpy>=1.18.5 in /Users/laurie/opt/anaconda3/lib/python3.8/site-packages (from roboflow) (1.20.1)\n",
      "Requirement already satisfied: matplotlib in /Users/laurie/opt/anaconda3/lib/python3.8/site-packages (from roboflow) (3.3.4)\n",
      "Requirement already satisfied: requests in /Users/laurie/opt/anaconda3/lib/python3.8/site-packages (from roboflow) (2.25.1)\n",
      "Collecting urllib3>=1.26.6\n",
      "  Downloading urllib3-2.1.0-py3-none-any.whl (104 kB)\n",
      "\u001b[K     |████████████████████████████████| 104 kB 37.7 MB/s eta 0:00:01\n",
      "\u001b[?25hCollecting python-magic\n",
      "  Downloading python_magic-0.4.27-py2.py3-none-any.whl (13 kB)\n",
      "Requirement already satisfied: tqdm>=4.41.0 in /Users/laurie/opt/anaconda3/lib/python3.8/site-packages (from roboflow) (4.59.0)\n",
      "Requirement already satisfied: cycler==0.10.0 in /Users/laurie/opt/anaconda3/lib/python3.8/site-packages (from roboflow) (0.10.0)\n",
      "Requirement already satisfied: idna==2.10 in /Users/laurie/opt/anaconda3/lib/python3.8/site-packages (from roboflow) (2.10)\n",
      "Requirement already satisfied: chardet==4.0.0 in /Users/laurie/opt/anaconda3/lib/python3.8/site-packages (from roboflow) (4.0.0)\n",
      "Collecting supervision\n",
      "  Downloading supervision-0.16.0-py3-none-any.whl (72 kB)\n",
      "\u001b[K     |████████████████████████████████| 72 kB 1.9 MB/s  eta 0:00:01\n",
      "\u001b[?25hCollecting urllib3>=1.26.6\n",
      "  Downloading urllib3-1.26.18-py2.py3-none-any.whl (143 kB)\n",
      "\u001b[K     |████████████████████████████████| 143 kB 17.1 MB/s eta 0:00:01\n",
      "\u001b[?25hCollecting matplotlib\n",
      "  Downloading matplotlib-3.7.3-cp38-cp38-macosx_10_12_x86_64.whl (7.4 MB)\n",
      "\u001b[K     |████████████████████████████████| 7.4 MB 37.3 MB/s eta 0:00:01     |████████████████████████████    | 6.5 MB 37.3 MB/s eta 0:00:01\n",
      "\u001b[?25hCollecting scipy<2.0.0,>=1.9.0\n",
      "  Downloading scipy-1.10.1-cp38-cp38-macosx_10_9_x86_64.whl (35.0 MB)\n",
      "\u001b[K     |████████████████████████████████| 35.0 MB 935 kB/s  eta 0:00:01  |███████████████████▏            | 21.0 MB 50.4 MB/s eta 0:00:01\n",
      "\u001b[?25hCollecting PyYAML>=5.3.1\n",
      "  Downloading PyYAML-6.0.1-cp38-cp38-macosx_10_9_x86_64.whl (191 kB)\n",
      "\u001b[K     |████████████████████████████████| 191 kB 69.2 MB/s eta 0:00:01\n",
      "\u001b[?25hCollecting Pillow>=7.1.2\n",
      "  Downloading Pillow-10.1.0-cp38-cp38-macosx_10_10_x86_64.whl (3.5 MB)\n",
      "\u001b[K     |████████████████████████████████| 3.5 MB 59.9 MB/s eta 0:00:01\n",
      "\u001b[?25hCollecting contourpy>=1.0.1\n",
      "  Downloading contourpy-1.1.1-cp38-cp38-macosx_10_9_x86_64.whl (247 kB)\n",
      "\u001b[K     |████████████████████████████████| 247 kB 53.3 MB/s eta 0:00:01\n",
      "\u001b[?25hRequirement already satisfied: importlib-resources>=3.2.0 in /Users/laurie/opt/anaconda3/lib/python3.8/site-packages (from matplotlib->roboflow) (6.1.0)\n",
      "Requirement already satisfied: packaging>=20.0 in /Users/laurie/opt/anaconda3/lib/python3.8/site-packages (from matplotlib->roboflow) (20.9)\n",
      "Collecting fonttools>=4.22.0\n",
      "  Downloading fonttools-4.44.3-cp38-cp38-macosx_10_9_x86_64.whl (2.2 MB)\n",
      "\u001b[K     |████████████████████████████████| 2.2 MB 57.4 MB/s eta 0:00:01\n",
      "\u001b[?25hRequirement already satisfied: zipp>=3.1.0 in /Users/laurie/opt/anaconda3/lib/python3.8/site-packages (from importlib-resources>=3.2.0->matplotlib->roboflow) (3.4.1)\n",
      "Installing collected packages: urllib3, Pillow, fonttools, contourpy, certifi, scipy, PyYAML, opencv-python-headless, matplotlib, supervision, requests-toolbelt, python-magic, python-dotenv, roboflow\n",
      "  Attempting uninstall: urllib3\n",
      "    Found existing installation: urllib3 1.26.4\n",
      "    Uninstalling urllib3-1.26.4:\n",
      "      Successfully uninstalled urllib3-1.26.4\n",
      "  Attempting uninstall: Pillow\n",
      "    Found existing installation: Pillow 8.2.0\n",
      "    Uninstalling Pillow-8.2.0:\n",
      "      Successfully uninstalled Pillow-8.2.0\n",
      "  Attempting uninstall: certifi\n",
      "    Found existing installation: certifi 2020.12.5\n",
      "    Uninstalling certifi-2020.12.5:\n",
      "      Successfully uninstalled certifi-2020.12.5\n",
      "  Attempting uninstall: scipy\n",
      "    Found existing installation: scipy 1.6.2\n",
      "    Uninstalling scipy-1.6.2:\n",
      "      Successfully uninstalled scipy-1.6.2\n",
      "  Attempting uninstall: PyYAML\n",
      "    Found existing installation: PyYAML 5.4.1\n",
      "    Uninstalling PyYAML-5.4.1:\n",
      "      Successfully uninstalled PyYAML-5.4.1\n",
      "  Attempting uninstall: matplotlib\n",
      "    Found existing installation: matplotlib 3.3.4\n",
      "    Uninstalling matplotlib-3.3.4:\n",
      "      Successfully uninstalled matplotlib-3.3.4\n",
      "\u001b[31mERROR: pip's dependency resolver does not currently take into account all the packages that are installed. This behaviour is the source of the following dependency conflicts.\n",
      "conda-repo-cli 1.0.4 requires pathlib, which is not installed.\n",
      "anaconda-project 0.9.1 requires ruamel-yaml, which is not installed.\u001b[0m\n",
      "Successfully installed Pillow-10.1.0 PyYAML-6.0.1 certifi-2023.7.22 contourpy-1.1.1 fonttools-4.44.3 matplotlib-3.7.3 opencv-python-headless-4.8.0.74 python-dotenv-1.0.0 python-magic-0.4.27 requests-toolbelt-1.0.0 roboflow-1.1.9 scipy-1.10.1 supervision-0.16.0 urllib3-1.26.18\n",
      "loading Roboflow workspace...\n",
      "loading Roboflow project...\n"
     ]
    },
    {
     "name": "stderr",
     "output_type": "stream",
     "text": [
      "Downloading Dataset Version Zip in ClimbingHoldDetection-15 to coco:: 100%|██████████| 19426/19426 [00:00<00:00, 32434.02it/s]"
     ]
    },
    {
     "name": "stdout",
     "output_type": "stream",
     "text": [
      "\n"
     ]
    },
    {
     "name": "stderr",
     "output_type": "stream",
     "text": [
      "\n",
      "Extracting Dataset Version Zip to ClimbingHoldDetection-15 in coco:: 100%|██████████| 445/445 [00:00<00:00, 2158.18it/s]\n"
     ]
    }
   ],
   "source": [
    "# label dataset \n",
    "!pip install roboflow\n",
    "\n",
    "from roboflow import Roboflow\n",
    "rf = Roboflow(api_key=\"ymd1CkcGpTPoAOocs8ov\")\n",
    "project = rf.workspace(\"shane-robertson-9azgn\").project(\"climbingholddetection\")\n",
    "dataset = project.version(15).download(\"coco\")\n"
   ]
  },
  {
   "cell_type": "code",
   "execution_count": 2,
   "metadata": {},
   "outputs": [
    {
     "name": "stdout",
     "output_type": "stream",
     "text": [
      "loading Roboflow workspace...\n",
      "loading Roboflow project...\n"
     ]
    },
    {
     "name": "stderr",
     "output_type": "stream",
     "text": [
      "Downloading Dataset Version Zip in Climbing-Holds-and-Volumes-14 to coco:: 100%|██████████| 371527/371527 [00:11<00:00, 31530.19it/s]"
     ]
    },
    {
     "name": "stdout",
     "output_type": "stream",
     "text": [
      "\n"
     ]
    },
    {
     "name": "stderr",
     "output_type": "stream",
     "text": [
      "\n",
      "Extracting Dataset Version Zip to Climbing-Holds-and-Volumes-14 in coco:: 100%|██████████| 4309/4309 [00:03<00:00, 1275.76it/s]\n"
     ]
    }
   ],
   "source": [
    "#unlabeled dataset\n",
    "\n",
    "project = rf.workspace(\"blackcreed-xpgxh\").project(\"climbing-holds-and-volumes\")\n",
    "dataset = project.version(14).download(\"coco\")\n",
    "\n"
   ]
  }
 ],
 "metadata": {
  "kernelspec": {
   "display_name": "neuralnet",
   "language": "python",
   "name": "python3"
  },
  "language_info": {
   "codemirror_mode": {
    "name": "ipython",
    "version": 3
   },
   "file_extension": ".py",
   "mimetype": "text/x-python",
   "name": "python",
   "nbconvert_exporter": "python",
   "pygments_lexer": "ipython3",
   "version": "3.8.8"
  },
  "orig_nbformat": 4
 },
 "nbformat": 4,
 "nbformat_minor": 2
}
