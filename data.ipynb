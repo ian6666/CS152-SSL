{
 "cells": [
  {
   "cell_type": "code",
   "execution_count": 2,
   "metadata": {},
   "outputs": [
    {
     "name": "stdout",
     "output_type": "stream",
     "text": [
      "Requirement already satisfied: roboflow in /Users/liumaxine/opt/anaconda3/envs/neuralnet/lib/python3.10/site-packages (1.1.9)\n",
      "Requirement already satisfied: certifi==2023.7.22 in /Users/liumaxine/opt/anaconda3/envs/neuralnet/lib/python3.10/site-packages (from roboflow) (2023.7.22)\n",
      "Requirement already satisfied: chardet==4.0.0 in /Users/liumaxine/opt/anaconda3/envs/neuralnet/lib/python3.10/site-packages (from roboflow) (4.0.0)\n",
      "Requirement already satisfied: cycler==0.10.0 in /Users/liumaxine/opt/anaconda3/envs/neuralnet/lib/python3.10/site-packages (from roboflow) (0.10.0)\n",
      "Requirement already satisfied: idna==2.10 in /Users/liumaxine/opt/anaconda3/envs/neuralnet/lib/python3.10/site-packages (from roboflow) (2.10)\n",
      "Requirement already satisfied: kiwisolver>=1.3.1 in /Users/liumaxine/opt/anaconda3/envs/neuralnet/lib/python3.10/site-packages (from roboflow) (1.4.4)\n",
      "Requirement already satisfied: matplotlib in /Users/liumaxine/opt/anaconda3/envs/neuralnet/lib/python3.10/site-packages (from roboflow) (3.7.2)\n",
      "Requirement already satisfied: numpy>=1.18.5 in /Users/liumaxine/opt/anaconda3/envs/neuralnet/lib/python3.10/site-packages (from roboflow) (1.26.0)\n",
      "Requirement already satisfied: opencv-python-headless==4.8.0.74 in /Users/liumaxine/opt/anaconda3/envs/neuralnet/lib/python3.10/site-packages (from roboflow) (4.8.0.74)\n",
      "Requirement already satisfied: Pillow>=7.1.2 in /Users/liumaxine/opt/anaconda3/envs/neuralnet/lib/python3.10/site-packages (from roboflow) (10.0.1)\n",
      "Requirement already satisfied: pyparsing==2.4.7 in /Users/liumaxine/opt/anaconda3/envs/neuralnet/lib/python3.10/site-packages (from roboflow) (2.4.7)\n",
      "Requirement already satisfied: python-dateutil in /Users/liumaxine/opt/anaconda3/envs/neuralnet/lib/python3.10/site-packages (from roboflow) (2.8.2)\n",
      "Requirement already satisfied: python-dotenv in /Users/liumaxine/opt/anaconda3/envs/neuralnet/lib/python3.10/site-packages (from roboflow) (1.0.0)\n",
      "Requirement already satisfied: requests in /Users/liumaxine/opt/anaconda3/envs/neuralnet/lib/python3.10/site-packages (from roboflow) (2.31.0)\n",
      "Requirement already satisfied: six in /Users/liumaxine/opt/anaconda3/envs/neuralnet/lib/python3.10/site-packages (from roboflow) (1.16.0)\n",
      "Requirement already satisfied: supervision in /Users/liumaxine/opt/anaconda3/envs/neuralnet/lib/python3.10/site-packages (from roboflow) (0.16.0)\n",
      "Requirement already satisfied: urllib3>=1.26.6 in /Users/liumaxine/opt/anaconda3/envs/neuralnet/lib/python3.10/site-packages (from roboflow) (1.26.18)\n",
      "Requirement already satisfied: tqdm>=4.41.0 in /Users/liumaxine/opt/anaconda3/envs/neuralnet/lib/python3.10/site-packages (from roboflow) (4.65.0)\n",
      "Requirement already satisfied: PyYAML>=5.3.1 in /Users/liumaxine/opt/anaconda3/envs/neuralnet/lib/python3.10/site-packages (from roboflow) (6.0.1)\n",
      "Requirement already satisfied: requests-toolbelt in /Users/liumaxine/opt/anaconda3/envs/neuralnet/lib/python3.10/site-packages (from roboflow) (1.0.0)\n",
      "Requirement already satisfied: python-magic in /Users/liumaxine/opt/anaconda3/envs/neuralnet/lib/python3.10/site-packages (from roboflow) (0.4.27)\n",
      "Requirement already satisfied: contourpy>=1.0.1 in /Users/liumaxine/opt/anaconda3/envs/neuralnet/lib/python3.10/site-packages (from matplotlib->roboflow) (1.0.5)\n",
      "Requirement already satisfied: fonttools>=4.22.0 in /Users/liumaxine/opt/anaconda3/envs/neuralnet/lib/python3.10/site-packages (from matplotlib->roboflow) (4.25.0)\n",
      "Requirement already satisfied: packaging>=20.0 in /Users/liumaxine/opt/anaconda3/envs/neuralnet/lib/python3.10/site-packages (from matplotlib->roboflow) (23.1)\n",
      "Requirement already satisfied: charset-normalizer<4,>=2 in /Users/liumaxine/opt/anaconda3/envs/neuralnet/lib/python3.10/site-packages (from requests->roboflow) (2.0.4)\n",
      "Requirement already satisfied: scipy<2.0.0,>=1.9.0 in /Users/liumaxine/opt/anaconda3/envs/neuralnet/lib/python3.10/site-packages (from supervision->roboflow) (1.11.3)\n",
      "\u001b[33mWARNING: There was an error checking the latest version of pip.\u001b[0m\u001b[33m\n",
      "loading Roboflow workspace...\n",
      "loading Roboflow project...\n"
     ]
    },
    {
     "name": "stderr",
     "output_type": "stream",
     "text": [
      "Downloading Dataset Version Zip in ClimbingHoldDetection-15 to coco:: 100%|██████████| 19426/19426 [00:00<00:00, 26065.85it/s]"
     ]
    },
    {
     "name": "stdout",
     "output_type": "stream",
     "text": [
      "\n"
     ]
    },
    {
     "name": "stderr",
     "output_type": "stream",
     "text": [
      "\n",
      "Extracting Dataset Version Zip to ClimbingHoldDetection-15 in coco:: 100%|██████████| 445/445 [00:00<00:00, 6934.79it/s]\n"
     ]
    }
   ],
   "source": [
    "# label dataset \n",
    "!pip install roboflow\n",
    "\n",
    "from roboflow import Roboflow\n",
    "rf = Roboflow(api_key=\"ymd1CkcGpTPoAOocs8ov\")\n",
    "project = rf.workspace(\"shane-robertson-9azgn\").project(\"climbingholddetection\")\n",
    "dataset = project.version(15).download(\"coco\")\n"
   ]
  },
  {
   "cell_type": "code",
   "execution_count": 3,
   "metadata": {},
   "outputs": [
    {
     "name": "stdout",
     "output_type": "stream",
     "text": [
      "Intel MKL WARNING: Support of Intel(R) Streaming SIMD Extensions 4.2 (Intel(R) SSE4.2) enabled only processors has been deprecated. Intel oneAPI Math Kernel Library 2025.0 will require Intel(R) Advanced Vector Extensions (Intel(R) AVX) instructions.\n",
      "Intel MKL WARNING: Support of Intel(R) Streaming SIMD Extensions 4.2 (Intel(R) SSE4.2) enabled only processors has been deprecated. Intel oneAPI Math Kernel Library 2025.0 will require Intel(R) Advanced Vector Extensions (Intel(R) AVX) instructions.\n",
      "loading Roboflow workspace...\n",
      "loading Roboflow project...\n"
     ]
    },
    {
     "name": "stderr",
     "output_type": "stream",
     "text": [
      "Downloading Dataset Version Zip in Climbing-Holds-and-Volumes-14 to coco:: 100%|██████████| 371527/371527 [00:28<00:00, 13204.33it/s]"
     ]
    },
    {
     "name": "stdout",
     "output_type": "stream",
     "text": [
      "\n"
     ]
    },
    {
     "name": "stderr",
     "output_type": "stream",
     "text": [
      "\n",
      "Extracting Dataset Version Zip to Climbing-Holds-and-Volumes-14 in coco:: 100%|██████████| 4309/4309 [00:00<00:00, 4568.71it/s]\n"
     ]
    }
   ],
   "source": [
    "#unlabeled dataset\n",
    "\n",
    "project = rf.workspace(\"blackcreed-xpgxh\").project(\"climbing-holds-and-volumes\")\n",
    "dataset = project.version(14).download(\"coco\")\n",
    "\n"
   ]
  }
 ],
 "metadata": {
  "kernelspec": {
   "display_name": "neuralnet",
   "language": "python",
   "name": "python3"
  },
  "language_info": {
   "codemirror_mode": {
    "name": "ipython",
    "version": 3
   },
   "file_extension": ".py",
   "mimetype": "text/x-python",
   "name": "python",
   "nbconvert_exporter": "python",
   "pygments_lexer": "ipython3",
   "version": "3.10.13"
  },
  "orig_nbformat": 4
 },
 "nbformat": 4,
 "nbformat_minor": 2
}
